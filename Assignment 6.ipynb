{
 "cells": [
  {
   "cell_type": "markdown",
   "metadata": {},
   "source": [
    "# GBA 6070 - Programming Foundation for Business Analytics\n",
    "# Dr. Mohammad Salehan\n",
    "# Assignment 6 - Strings, Dictionaries, and Tuples"
   ]
  },
  {
   "cell_type": "markdown",
   "metadata": {},
   "source": [
    "1. Write a function called capital which accepts a string and returns the same string after capitalizing the first letter. For example, if the parameter is 'banana', it will return 'Banana'."
   ]
  },
  {
   "cell_type": "code",
   "execution_count": 20,
   "metadata": {},
   "outputs": [
    {
     "data": {
      "text/plain": [
       "'Banana'"
      ]
     },
     "execution_count": 20,
     "metadata": {},
     "output_type": "execute_result"
    }
   ],
   "source": [
    "def capital(a):\n",
    "    return a.capitalize()\n",
    "\n",
    "a='banana'\n",
    "capital(a)"
   ]
  },
  {
   "cell_type": "markdown",
   "metadata": {},
   "source": [
    "2. Write a function called count_As that returns the number of a's in a string. For example, for 'banana', it will return 3."
   ]
  },
  {
   "cell_type": "code",
   "execution_count": 22,
   "metadata": {},
   "outputs": [
    {
     "data": {
      "text/plain": [
       "3"
      ]
     },
     "execution_count": 22,
     "metadata": {},
     "output_type": "execute_result"
    }
   ],
   "source": [
    "def count_(b):\n",
    "    return b.count('a')\n",
    "\n",
    "b='banana'\n",
    "count_(b)"
   ]
  },
  {
   "cell_type": "markdown",
   "metadata": {},
   "source": [
    "3. Write a function called print_evens that accepts a dictionary as parameter and prints key-values where the key is divisible by 2. For example, if dictionary={'a':2, 'b':3, 'c':4, 'd':5} it will print a 2 and c 4."
   ]
  },
  {
   "cell_type": "code",
   "execution_count": 27,
   "metadata": {},
   "outputs": [
    {
     "name": "stdout",
     "output_type": "stream",
     "text": [
      "a 2\n",
      "c 4\n"
     ]
    }
   ],
   "source": [
    "def print_evens(c):\n",
    "    for i in c:\n",
    "        if c[i]%2==0:\n",
    "            print(i,c[i])\n",
    "    \n",
    "dictionary={'a':2, 'b':3, 'c':4, 'd':5} \n",
    "print_evens(dictionary)"
   ]
  },
  {
   "cell_type": "markdown",
   "metadata": {},
   "source": [
    "4. Write a function called double_dict that takes a dictionary and mutiplies all the values (not keys) by 2. For example, given dictionary={'a':2, 'b':3, 'c':4, 'd':5}, after running the function dictionary would be {'a':4, 'b':6, 'c':8, 'd':10}."
   ]
  },
  {
   "cell_type": "code",
   "execution_count": 32,
   "metadata": {},
   "outputs": [
    {
     "name": "stdout",
     "output_type": "stream",
     "text": [
      "{'a': 4, 'b': 6, 'c': 8, 'd': 10}\n"
     ]
    }
   ],
   "source": [
    "def double_dict(d):\n",
    "    for i in d:\n",
    "        d[i]*=2\n",
    "    print(d)\n",
    "\n",
    "dictionary={'a':2, 'b':3, 'c':4, 'd':5}\n",
    "double_dict(dictionary)"
   ]
  },
  {
   "cell_type": "markdown",
   "metadata": {},
   "source": [
    "5. Write a function named product that calculates the product of all elements in a tuple. For example, for (2,3,4) the result would be 2X3X4=24."
   ]
  },
  {
   "cell_type": "code",
   "execution_count": null,
   "metadata": {},
   "outputs": [],
   "source": [
    "def product(e):\n",
    "    x,y,z=e\n",
    "    e=x*y*z\n",
    "    print(e)\n",
    "    \n",
    "e=(2,3,4)    "
   ]
  }
 ],
 "metadata": {
  "kernelspec": {
   "display_name": "Python 3 (ipykernel)",
   "language": "python",
   "name": "python3"
  },
  "language_info": {
   "codemirror_mode": {
    "name": "ipython",
    "version": 3
   },
   "file_extension": ".py",
   "mimetype": "text/x-python",
   "name": "python",
   "nbconvert_exporter": "python",
   "pygments_lexer": "ipython3",
   "version": "3.9.12"
  }
 },
 "nbformat": 4,
 "nbformat_minor": 4
}
